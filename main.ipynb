{
 "cells": [
  {
   "cell_type": "code",
   "execution_count": 12,
   "metadata": {
    "collapsed": true
   },
   "outputs": [],
   "source": [
    "import numpy as np\n",
    "import os\n",
    "import random\n",
    "import imageio\n",
    "from scipy import misc"
   ]
  },
  {
   "cell_type": "code",
   "execution_count": 13,
   "outputs": [],
   "source": [
    "def get_images(paths, labels, nb_samples = None, shuffle = True):\n",
    "    \"\"\"\n",
    "    获取一组字符文件夹和标签，并返回带有标签的图像文件的路径。\n",
    "    输入:\n",
    "        paths: 一个字符文件夹的列表\n",
    "        labels: 与路径长度相同的列表或numpy数组\n",
    "        nb_samples: 每个字符检索的图像数量\n",
    "    输出:\n",
    "        由元组(标签, 图像路径)构成的列表\n",
    "    \"\"\"\n",
    "    if nb_samples is not None:\n",
    "        sampler = lambda x: random.sample(x, nb_samples)\n",
    "    else:\n",
    "        sampler = lambda x: x\n",
    "    images_labels = [(i, os.path.join(path, image))\n",
    "                     for i, path in zip(labels, paths)\n",
    "                     for image in sampler([pathstr for pathstr in os.listdir(path) if pathstr[-4:] == '.png' ])]\n",
    "    if shuffle:\n",
    "        random.shuffle(images_labels)\n",
    "    return images_labels"
   ],
   "metadata": {
    "collapsed": false,
    "pycharm": {
     "name": "#%%\n"
    }
   }
  },
  {
   "cell_type": "code",
   "execution_count": 39,
   "outputs": [],
   "source": [
    "def image_file_to_array(filename, dim_input):\n",
    "    \"\"\"\n",
    "    读取图像路径并返回numpy数组\n",
    "    输入:\n",
    "        filename: 图像文件名称\n",
    "        dim_input: 图像的扁平形状\n",
    "    输出:\n",
    "        单通道图像\n",
    "    \"\"\"\n",
    "    image = imageio.v2.imread(filename)\n",
    "    image = image.reshape([dim_input])\n",
    "    image = image.astype(np.float32) / 255.0\n",
    "    image = 1.0 - image\n",
    "\n",
    "    return image"
   ],
   "metadata": {
    "collapsed": false,
    "pycharm": {
     "name": "#%%\n"
    }
   }
  },
  {
   "cell_type": "code",
   "execution_count": 40,
   "outputs": [],
   "source": [
    "def pair_shuffle(array_a, array_b):\n",
    "    \"\"\"\n",
    "    获取一个图像数组和一个标签数组\n",
    "    输出:\n",
    "        打乱的图像数组和标签数组\n",
    "    \"\"\"\n",
    "    temp_perm = np.random.permutation(array_a.shape[0])\n",
    "    array_a = array_a[temp_perm]\n",
    "    array_b = array_b[temp_perm]\n",
    "    return array_a, array_b"
   ],
   "metadata": {
    "collapsed": false,
    "pycharm": {
     "name": "#%%\n"
    }
   }
  },
  {
   "cell_type": "code",
   "execution_count": 41,
   "outputs": [],
   "source": [
    "def LoadData(num_classes = 50, num_samples_per_class_train = 15, num_samples_per_class_test = 5, seed = 1):\n",
    "    \"\"\"\n",
    "    加载数据并将其分割为训练和测试集\n",
    "    输入:\n",
    "        num_classes: 采用的类数，-1表示使用所有类\n",
    "        num_samples_per_class_train: 每个类用于训练的样本数量\n",
    "        num_samples_per_class_test: 每个类用于测试的样本数量\n",
    "        seed: 随机种子以确保结果一致\n",
    "    输出:\n",
    "        一个元组：(1)用于训练的图像(2)用于训练的标签(3)用于测试的图像，以及(4)用于测试的标签\n",
    "            (1) 形状[num_classes * num_samples_per_class_train, 784]，二进制像素的Numpy数组\n",
    "            (2) 形状[num_classes * num_samples_per_class_train]的Numpy数组，类标签的整数\n",
    "            (3) 形状[num_classes * num_samples_per_class_test, 784]，二进制像素的Numpy数组\n",
    "            (4) 形状[num_classes * num_samples_per_class_test]的Numpy数组，类标签的整数\n",
    "    \"\"\"\n",
    "    random.seed(seed)\n",
    "    np.random.seed(seed)\n",
    "    num_samples_per_class = num_samples_per_class_train + num_samples_per_class_test\n",
    "    assert num_classes <= 1623\n",
    "    assert num_samples_per_class <= 20\n",
    "    dim_input = 28 * 28   # 784\n",
    "\n",
    "    # 建立文件夹\n",
    "    data_folder = './omniglot_resized'\n",
    "    character_folders = [os.path.join(data_folder, family, character)\n",
    "                         for family in os.listdir(data_folder)\n",
    "                         if os.path.isdir(os.path.join(data_folder, family))\n",
    "                         for character in os.listdir(os.path.join(data_folder, family))\n",
    "                         if os.path.isdir(os.path.join(data_folder, family, character))]\n",
    "    random.shuffle(character_folders)\n",
    "    if num_classes == -1:\n",
    "        num_classes = len(character_folders)\n",
    "    else:\n",
    "        character_folders = character_folders[: num_classes]\n",
    "\n",
    "    # 读取图像\n",
    "    all_images = np.zeros(shape = (num_samples_per_class, num_classes, dim_input))\n",
    "    all_labels = np.zeros(shape = (num_samples_per_class, num_classes))\n",
    "    label_images = get_images(character_folders, list(range(num_classes)), nb_samples = num_samples_per_class, shuffle = True)\n",
    "    temp_count = np.zeros(num_classes, dtype=int)\n",
    "    for label,imagefile in label_images:\n",
    "        temp_num = temp_count[label]\n",
    "        all_images[temp_num, label, :] = image_file_to_array(imagefile, dim_input)\n",
    "        all_labels[temp_num, label] = label\n",
    "        temp_count[label] += 1\n",
    "\n",
    "    # 分裂和随机排列\n",
    "    train_image = all_images[:num_samples_per_class_train].reshape(-1,dim_input)\n",
    "    test_image  = all_images[num_samples_per_class_train:].reshape(-1,dim_input)\n",
    "    train_label = all_labels[:num_samples_per_class_train].reshape(-1)\n",
    "    test_label  = all_labels[num_samples_per_class_train:].reshape(-1)\n",
    "    train_image, train_label = pair_shuffle(train_image, train_label)\n",
    "    test_image, test_label = pair_shuffle(test_image, test_label)\n",
    "    return train_image, train_label, test_image, test_label"
   ],
   "metadata": {
    "collapsed": false,
    "pycharm": {
     "name": "#%%\n"
    }
   }
  },
  {
   "cell_type": "code",
   "execution_count": 42,
   "outputs": [],
   "source": [
    "train_image, train_label, test_image, test_label = LoadData()"
   ],
   "metadata": {
    "collapsed": false,
    "pycharm": {
     "name": "#%%\n"
    }
   }
  },
  {
   "cell_type": "code",
   "execution_count": null,
   "outputs": [],
   "source": [],
   "metadata": {
    "collapsed": false,
    "pycharm": {
     "name": "#%%\n"
    }
   }
  }
 ],
 "metadata": {
  "kernelspec": {
   "display_name": "Python 3",
   "language": "python",
   "name": "python3"
  },
  "language_info": {
   "codemirror_mode": {
    "name": "ipython",
    "version": 2
   },
   "file_extension": ".py",
   "mimetype": "text/x-python",
   "name": "python",
   "nbconvert_exporter": "python",
   "pygments_lexer": "ipython2",
   "version": "2.7.6"
  }
 },
 "nbformat": 4,
 "nbformat_minor": 0
}